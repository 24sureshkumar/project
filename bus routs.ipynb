{
 "cells": [
  {
   "cell_type": "code",
   "execution_count": null,
   "metadata": {},
   "outputs": [],
   "source": [
    "!pip install pandas"
   ]
  },
  {
   "cell_type": "code",
   "execution_count": null,
   "metadata": {},
   "outputs": [],
   "source": [
    "!pip install selenium"
   ]
  },
  {
   "cell_type": "code",
   "execution_count": 2,
   "metadata": {},
   "outputs": [],
   "source": [
    "from selenium import webdriver\n",
    "from selenium.webdriver.common.by import By\n",
    "from selenium.webdriver.common.keys import Keys\n",
    "import time\n",
    "from selenium.webdriver.support.ui import WebDriverWait\n",
    "from selenium.webdriver.support import expected_conditions as Ec\n",
    "from selenium.webdriver import ActionChains\n",
    "from selenium.common.exceptions import TimeoutException,NoSuchElementException\n",
    "from argparse import Action\n"
   ]
  },
  {
   "cell_type": "code",
   "execution_count": 3,
   "metadata": {},
   "outputs": [],
   "source": [
    "# --------------------------------------------------state links--------------------------------------\n",
    "state_link=[\"https://www.redbus.in/online-booking/ksrtc-kerala/?utm_source=rtchometile\",\n",
    "            \"https://www.redbus.in/online-booking/apsrtc/?utm_source=rtchometile\",\n",
    "            \"https://www.redbus.in/online-booking/tsrtc/?utm_source=rtchometile\",\n",
    "            \"https://www.redbus.in/online-booking/ktcl/?utm_source=rtchometile\",\n",
    "            \"https://www.redbus.in/online-booking/rsrtc/?utm_source=rtchometile\",\n",
    "            \"https://www.redbus.in/online-booking/south-bengal-state-transport-corporation-sbstc/?utm_source=rtchometile\",\n",
    "            \"https://www.redbus.in/online-booking/hrtc/?utm_source=rtchometile\",\n",
    "            \"https://www.redbus.in/online-booking/astc/?utm_source=rtchometile\",\n",
    "            \"https://www.redbus.in/online-booking/uttar-pradesh-state-road-transport-corporation-upsrtc/?utm_source=rtchometile\",\n",
    "            \"https://www.redbus.in/online-booking/wbtc-ctc/?utm_source=rtchometile\"\n",
    "]"
   ]
  },
  {
   "cell_type": "code",
   "execution_count": 44,
   "metadata": {},
   "outputs": [],
   "source": [
    "# -------------------------------------Kerala routs-----------------------------------\n",
    "\n",
    "\n",
    "\n",
    "driver=webdriver.Chrome()\n",
    "driver.get(state_link[0])\n",
    "driver.maximize_window()\n",
    "wait=WebDriverWait(driver,20)\n",
    "\n",
    "def kerala_bus_route_link(path):\n",
    "    kerala_route=[]\n",
    "    kerala_link=[]\n",
    "    for i in range(1,3):  # range (1,3) is no of page \n",
    "        links=driver.find_elements(By.XPATH,path)\n",
    "\n",
    "\n",
    "        for link in links:\n",
    "            a=link.get_attribute(\"href\")\n",
    "            (kerala_link.append(a))\n",
    "        for route in links:\n",
    "            kerala_route.append(route.text)\n",
    "        \n",
    "        try:\n",
    "            page=driver.find_element(By.XPATH,\"//a[@class='route']\")\n",
    "            action=ActionChains(driver)\n",
    "            action.move_to_element(driver.find_element(By.XPATH,\"//div[@class='DC_117_pageTabs ']\")).click()\n",
    "            action.perform()\n",
    "            i+=1\n",
    "        except:           \n",
    "            print(f\"Ther are no pages found{i}\")\n",
    "            break\n",
    "\n",
    "\n",
    "    return kerala_route,kerala_link\n",
    "\n",
    "path=\"//a[@class='route']\"\n",
    "kerala_route,kerala_link=kerala_bus_route_link(path)\n"
   ]
  },
  {
   "cell_type": "code",
   "execution_count": 48,
   "metadata": {},
   "outputs": [],
   "source": [
    "#    -----------------------------------kerala save  file ------------------------------------\n",
    "\n",
    "import pandas as pd \n",
    "l_and_r=pd.DataFrame({'kearala_keys':kerala_link,'kerala_routes':kerala_route})\n",
    "local_a=r\"D:\\project\\kerala_routes.csv\"\n",
    "l_and_r.to_csv(local_a,index=False)"
   ]
  },
  {
   "cell_type": "code",
   "execution_count": null,
   "metadata": {},
   "outputs": [],
   "source": [
    "#----------------------------------------andra bus route-----------------------\n",
    "driver=webdriver.Chrome()\n",
    "driver.get(state_link[1])\n",
    "driver.maximize_window()\n",
    "wait=WebDriverWait(driver,20)\n",
    "\n",
    "def andra_bus_route_link(path):\n",
    "    andra_route=[]\n",
    "    andra_link=[]\n",
    "    for j in range(2,7):\n",
    "        links=driver.find_elements(By.XPATH,path)\n",
    "\n",
    "\n",
    "        for link in links:\n",
    "            a=link.get_attribute(\"href\")\n",
    "            (andra_link.append(a))\n",
    "        for route in links:\n",
    "            andra_route.append(route.text)\n",
    "        \n",
    "        try:\n",
    "            page=driver.find_element(By.XPATH,\"//a[@class='route']\")\n",
    "            time.sleep(4)\n",
    "            action=ActionChains(driver)\n",
    "            action.move_to_element(driver.find_element(By.XPATH,f\"//div[contains(text(),{j})]\")).click()\n",
    "            action.perform()\n",
    "            time.sleep(5)\n",
    "            j+=1\n",
    "        except:          \n",
    "            print(f\"Ther are no pages found{j}\")\n",
    "            break\n",
    "\n",
    "\n",
    "    return andra_route,andra_link\n",
    "\n",
    "path=\"//a[@class='route']\"\n",
    "andra_route,andra_link=andra_bus_route_link(path)\n"
   ]
  },
  {
   "cell_type": "code",
   "execution_count": null,
   "metadata": {},
   "outputs": [],
   "source": [
    "#----------------------------------andra save file----------------------------\n",
    "import pandas as pd \n",
    "l_and_r=pd.DataFrame({'andra_keys':andra_link,'andra_routes':andra_route})\n",
    "local_a=r\"D:\\project\\andra_routes.csv\"\n",
    "l_and_r.to_csv(local_a,index=False)"
   ]
  },
  {
   "cell_type": "code",
   "execution_count": 49,
   "metadata": {},
   "outputs": [],
   "source": [
    "#----------------------------------------Tsrtc bus route-----------------------\n",
    "driver=webdriver.Chrome()\n",
    "driver.get(state_link[2])\n",
    "driver.maximize_window()\n",
    "wait=WebDriverWait(driver,20)\n",
    "\n",
    "def Tsrtc_bus_route_link(path):\n",
    "    tsrtc_route=[]\n",
    "    tsrtc_link=[]\n",
    "    for k in range(2,5):\n",
    "        links=driver.find_elements(By.XPATH,path)\n",
    "\n",
    "\n",
    "        for link in links:\n",
    "            a=link.get_attribute(\"href\")\n",
    "            (tsrtc_link.append(a))\n",
    "        for route in links:\n",
    "            tsrtc_route.append(route.text)\n",
    "        \n",
    "        try:\n",
    "            page=driver.find_element(By.XPATH,\"//a[@class='route']\")\n",
    "            time.sleep(2)\n",
    "            action=ActionChains(driver)\n",
    "            action.move_to_element(driver.find_element(By.XPATH,f\"//div[contains(text(),{k})]\")).click()\n",
    "            action.perform()\n",
    "            time.sleep(2)\n",
    "            k+=1\n",
    "        except:         \n",
    "            print(f\"Ther are no pages found{k}\")\n",
    "            break\n",
    "\n",
    "\n",
    "    return tsrtc_route,tsrtc_link\n",
    "\n",
    "path=\"//a[@class='route']\"\n",
    "tsrtc_route,tsrtc_link=Tsrtc_bus_route_link(path)"
   ]
  },
  {
   "cell_type": "code",
   "execution_count": 51,
   "metadata": {},
   "outputs": [],
   "source": [
    "#----------------------------------Tsrtc save file----------------------------\n",
    "import pandas as pd \n",
    "l_and_r=pd.DataFrame({'tsrtc_keys':tsrtc_link,'tsrtc_routes':tsrtc_route})\n",
    "local_a=r\"D:\\project\\tsrtc_routes.csv\"\n",
    "l_and_r.to_csv(local_a,index=False)"
   ]
  },
  {
   "cell_type": "code",
   "execution_count": 8,
   "metadata": {},
   "outputs": [
    {
     "name": "stdout",
     "output_type": "stream",
     "text": [
      "Ther are no pages found5\n"
     ]
    }
   ],
   "source": [
    "#----------------------------------------Ktcl bus route-----------------------\n",
    "driver=webdriver.Chrome()\n",
    "driver.get(state_link[3])\n",
    "driver.maximize_window()\n",
    "wait=WebDriverWait(driver,20)\n",
    "\n",
    "def Ktcl_bus_route_link(path):\n",
    "    ktcl_route=[]\n",
    "    ktcl_link=[]\n",
    "    for l in range(2,6):\n",
    "        links=driver.find_elements(By.XPATH,path)\n",
    "\n",
    "\n",
    "        for link in links:\n",
    "            a=link.get_attribute(\"href\")\n",
    "            (ktcl_link.append(a))\n",
    "        for route in links:\n",
    "            ktcl_route.append(route.text)\n",
    "        \n",
    "        try:\n",
    "            page=driver.find_element(By.XPATH,\"//a[@class='route']\")\n",
    "            time.sleep(2)\n",
    "            action=ActionChains(driver)\n",
    "            action.move_to_element(driver.find_element(By.XPATH,f\"//div[contains(text(),{l})]\")).click()\n",
    "            action.perform()\n",
    "            time.sleep(2)\n",
    "            l+=1\n",
    "        except:         \n",
    "            print(f\"Ther are no pages found{l}\")\n",
    "            break\n",
    "\n",
    "\n",
    "    return ktcl_route,ktcl_link\n",
    "\n",
    "path=\"//a[@class='route']\"\n",
    "ktcl_route,ktcl_link=Ktcl_bus_route_link(path)"
   ]
  },
  {
   "cell_type": "code",
   "execution_count": 9,
   "metadata": {},
   "outputs": [],
   "source": [
    "#----------------------------------ktcl save file----------------------------\n",
    "import pandas as pd \n",
    "l_and_r=pd.DataFrame({'ktcl_keys':ktcl_link,'ktcl_routes':ktcl_route})\n",
    "local_a=r\"D:\\project\\ktcl_routes.csv\"\n",
    "l_and_r.to_csv(local_a,index=False)"
   ]
  },
  {
   "cell_type": "code",
   "execution_count": 4,
   "metadata": {},
   "outputs": [],
   "source": [
    "#----------------------------------------Rsrtc bus route-----------------------\n",
    "driver=webdriver.Chrome()\n",
    "driver.get(state_link[4])\n",
    "driver.maximize_window()\n",
    "wait=WebDriverWait(driver,20)\n",
    "\n",
    "def Rsrtc_bus_route_link(path):\n",
    "    rsrtc_route=[]\n",
    "    rsrtc_link=[]\n",
    "    for m in range(2,5):\n",
    "        links=driver.find_elements(By.XPATH,path)\n",
    "\n",
    "\n",
    "        for link in links:\n",
    "            a=link.get_attribute(\"href\")\n",
    "            (rsrtc_link.append(a))\n",
    "        for route in links:\n",
    "            rsrtc_route.append(route.text)\n",
    "        \n",
    "        try:\n",
    "            page=driver.find_element(By.XPATH,\"//a[@class='route']\")\n",
    "            time.sleep(2)\n",
    "            action=ActionChains(driver)\n",
    "            action.move_to_element(driver.find_element(By.XPATH,f\"//div[contains(text(),{m})]\")).click()\n",
    "            action.perform()\n",
    "            time.sleep(2)\n",
    "            m+=1\n",
    "        except:         \n",
    "            print(f\"Ther are no pages found{m}\")\n",
    "            break\n",
    "\n",
    "\n",
    "    return rsrtc_route,rsrtc_link\n",
    "\n",
    "path=\"//a[@class='route']\"\n",
    "rsrtc_route,rsrtc_link=Rsrtc_bus_route_link(path)"
   ]
  },
  {
   "cell_type": "code",
   "execution_count": 5,
   "metadata": {},
   "outputs": [],
   "source": [
    "#----------------------------------Rsrtc save file----------------------------\n",
    "import pandas as pd \n",
    "l_and_r=pd.DataFrame({'rsrtc_keys':rsrtc_link,'rsrtc_routes':rsrtc_route})\n",
    "local_a=r\"D:\\project\\rsrtc_routes.csv\"\n",
    "l_and_r.to_csv(local_a,index=False)"
   ]
  },
  {
   "cell_type": "code",
   "execution_count": 10,
   "metadata": {},
   "outputs": [
    {
     "name": "stdout",
     "output_type": "stream",
     "text": [
      "Ther are no pages found6\n"
     ]
    }
   ],
   "source": [
    "#----------------------------------------Sbstc bus route-----------------------\n",
    "driver=webdriver.Chrome()\n",
    "driver.get(state_link[5])\n",
    "driver.maximize_window()\n",
    "wait=WebDriverWait(driver,20)\n",
    "\n",
    "def Sbstc_bus_route_link(path):\n",
    "    sbstc_route=[]\n",
    "    sbstc_link=[]\n",
    "    for n in range(2,7):\n",
    "        links=driver.find_elements(By.XPATH,path)\n",
    "\n",
    "\n",
    "        for link in links:\n",
    "            a=link.get_attribute(\"href\")\n",
    "            (sbstc_link.append(a))\n",
    "        for route in links:\n",
    "            sbstc_route.append(route.text)\n",
    "        \n",
    "        try:\n",
    "            page=driver.find_element(By.XPATH,\"//a[@class='route']\")\n",
    "            time.sleep(2)\n",
    "            action=ActionChains(driver)\n",
    "            action.move_to_element(driver.find_element(By.XPATH,f\"//div[contains(text(),{n})]\")).click()\n",
    "            action.perform()\n",
    "            time.sleep(2)\n",
    "            n+=1\n",
    "        except:         \n",
    "            print(f\"Ther are no pages found{n}\")\n",
    "            break\n",
    "\n",
    "\n",
    "    return sbstc_route,sbstc_link\n",
    "\n",
    "path=\"//a[@class='route']\"\n",
    "sbstc_route,sbstc_link=Sbstc_bus_route_link(path)"
   ]
  },
  {
   "cell_type": "code",
   "execution_count": 11,
   "metadata": {},
   "outputs": [],
   "source": [
    "#----------------------------------Sbstc save file----------------------------\n",
    "import pandas as pd \n",
    "l_and_r=pd.DataFrame({'sbstc_keys':sbstc_link,'sbstc_routes':sbstc_route})\n",
    "local_a=r\"D:\\project\\sbstc_routes.csv\"\n",
    "l_and_r.to_csv(local_a,index=False)"
   ]
  },
  {
   "cell_type": "code",
   "execution_count": 13,
   "metadata": {},
   "outputs": [
    {
     "name": "stdout",
     "output_type": "stream",
     "text": [
      "Ther are no pages found6\n"
     ]
    }
   ],
   "source": [
    "#----------------------------------------Hrtc bus route-----------------------\n",
    "driver=webdriver.Chrome()\n",
    "driver.get(state_link[6])\n",
    "driver.maximize_window()\n",
    "wait=WebDriverWait(driver,20)\n",
    "\n",
    "def Hrtc_bus_route_link(path):\n",
    "    hrtc_route=[]\n",
    "    hrtc_link=[]\n",
    "    for o in range(2,7):\n",
    "        links=driver.find_elements(By.XPATH,path)\n",
    "\n",
    "\n",
    "        for link in links:\n",
    "            a=link.get_attribute(\"href\")\n",
    "            (hrtc_link.append(a))\n",
    "        for route in links:\n",
    "            hrtc_route.append(route.text)\n",
    "        \n",
    "        try:\n",
    "            page=driver.find_element(By.XPATH,\"//a[@class='route']\")\n",
    "            time.sleep(2)\n",
    "            action=ActionChains(driver)\n",
    "            action.move_to_element(driver.find_element(By.XPATH,f\"//div[contains(text(),{o})]\")).click()\n",
    "            action.perform()\n",
    "            time.sleep(2)\n",
    "            o+=1\n",
    "        except:         \n",
    "            print(f\"Ther are no pages found{o}\")\n",
    "            break\n",
    "\n",
    "\n",
    "    return hrtc_route,hrtc_link\n",
    "\n",
    "path=\"//a[@class='route']\"\n",
    "hrtc_route,hrtc_link=Hrtc_bus_route_link(path)"
   ]
  },
  {
   "cell_type": "code",
   "execution_count": 14,
   "metadata": {},
   "outputs": [],
   "source": [
    "#----------------------------------Tsrtc save file----------------------------\n",
    "import pandas as pd \n",
    "l_and_r=pd.DataFrame({'hrtc_keys':hrtc_link,'hrtc_routes':hrtc_route})\n",
    "local_a=r\"D:\\project\\hrtc_routes.csv\"\n",
    "l_and_r.to_csv(local_a,index=False)"
   ]
  },
  {
   "cell_type": "code",
   "execution_count": 15,
   "metadata": {},
   "outputs": [
    {
     "name": "stdout",
     "output_type": "stream",
     "text": [
      "Ther are no pages found6\n"
     ]
    }
   ],
   "source": [
    "#----------------------------------------AStc bus route-----------------------\n",
    "driver=webdriver.Chrome()\n",
    "driver.get(state_link[7])\n",
    "driver.maximize_window()\n",
    "wait=WebDriverWait(driver,20)\n",
    "\n",
    "def Astc_bus_route_link(path):\n",
    "    astc_route=[]\n",
    "    astc_link=[]\n",
    "    for p in range(2,7):\n",
    "        links=driver.find_elements(By.XPATH,path)\n",
    "\n",
    "\n",
    "        for link in links:\n",
    "            a=link.get_attribute(\"href\")\n",
    "            (astc_link.append(a))\n",
    "        for route in links:\n",
    "            astc_route.append(route.text)\n",
    "        \n",
    "        try:\n",
    "            page=driver.find_element(By.XPATH,\"//a[@class='route']\")\n",
    "            time.sleep(2)\n",
    "            action=ActionChains(driver)\n",
    "            action.move_to_element(driver.find_element(By.XPATH,f\"//div[contains(text(),{p})]\")).click()\n",
    "            action.perform()\n",
    "            time.sleep(2)\n",
    "            p+=1\n",
    "        except:         \n",
    "            print(f\"Ther are no pages found{p}\")\n",
    "            break\n",
    "\n",
    "\n",
    "    return astc_route,astc_link\n",
    "\n",
    "path=\"//a[@class='route']\"\n",
    "astc_route,astc_link=Astc_bus_route_link(path)"
   ]
  },
  {
   "cell_type": "code",
   "execution_count": 16,
   "metadata": {},
   "outputs": [],
   "source": [
    "#----------------------------------Astc save file----------------------------\n",
    "import pandas as pd \n",
    "l_and_r=pd.DataFrame({'astc_keys':astc_link,'astc_routes':astc_route})\n",
    "local_a=r\"D:\\project\\astc_routes.csv\"\n",
    "l_and_r.to_csv(local_a,index=False)"
   ]
  },
  {
   "cell_type": "code",
   "execution_count": 17,
   "metadata": {},
   "outputs": [
    {
     "name": "stdout",
     "output_type": "stream",
     "text": [
      "Ther are no pages found6\n"
     ]
    }
   ],
   "source": [
    "#----------------------------------------Upsrtc bus route-----------------------\n",
    "driver=webdriver.Chrome()\n",
    "driver.get(state_link[8])\n",
    "driver.maximize_window()\n",
    "wait=WebDriverWait(driver,20)\n",
    "\n",
    "def Upsrtc_bus_route_link(path):\n",
    "    upsrtc_route=[]\n",
    "    upsrtc_link=[]\n",
    "    for q in range(2,7):\n",
    "        links=driver.find_elements(By.XPATH,path)\n",
    "\n",
    "\n",
    "        for link in links:\n",
    "            a=link.get_attribute(\"href\")\n",
    "            (upsrtc_link.append(a))\n",
    "        for route in links:\n",
    "            upsrtc_route.append(route.text)\n",
    "        \n",
    "        try:\n",
    "            page=driver.find_element(By.XPATH,\"//a[@class='route']\")\n",
    "            time.sleep(2)\n",
    "            action=ActionChains(driver)\n",
    "            action.move_to_element(driver.find_element(By.XPATH,f\"//div[contains(text(),{q})]\")).click()\n",
    "            action.perform()\n",
    "            time.sleep(2)\n",
    "            q+=1\n",
    "        except:         \n",
    "            print(f\"Ther are no pages found{q}\")\n",
    "            break\n",
    "\n",
    "\n",
    "    return upsrtc_route,upsrtc_link\n",
    "\n",
    "path=\"//a[@class='route']\"\n",
    "upsrtc_route,upsrtc_link=Upsrtc_bus_route_link(path)"
   ]
  },
  {
   "cell_type": "code",
   "execution_count": 18,
   "metadata": {},
   "outputs": [],
   "source": [
    "#----------------------------------Upsrtc save file----------------------------\n",
    "import pandas as pd \n",
    "l_and_r=pd.DataFrame({'upsrtc_keys':upsrtc_link,'upsrtc_routes':upsrtc_route})\n",
    "local_a=r\"D:\\project\\upsrtc_routes.csv\"\n",
    "l_and_r.to_csv(local_a,index=False)"
   ]
  },
  {
   "cell_type": "code",
   "execution_count": 19,
   "metadata": {},
   "outputs": [
    {
     "name": "stdout",
     "output_type": "stream",
     "text": [
      "Ther are no pages found6\n"
     ]
    }
   ],
   "source": [
    "#----------------------------------------Wbtc bus route-----------------------\n",
    "driver=webdriver.Chrome()\n",
    "driver.get(state_link[9])\n",
    "driver.maximize_window()\n",
    "wait=WebDriverWait(driver,20)\n",
    "\n",
    "def Wbtc_bus_route_link(path):\n",
    "    wbtc_route=[]\n",
    "    wbtc_link=[]\n",
    "    for r in range(2,7):\n",
    "        links=driver.find_elements(By.XPATH,path)\n",
    "\n",
    "\n",
    "        for link in links:\n",
    "            a=link.get_attribute(\"href\")\n",
    "            (wbtc_link.append(a))\n",
    "        for route in links:\n",
    "            wbtc_route.append(route.text)\n",
    "        \n",
    "        try:\n",
    "            page=driver.find_element(By.XPATH,\"//a[@class='route']\")\n",
    "            time.sleep(2)\n",
    "            action=ActionChains(driver)\n",
    "            action.move_to_element(driver.find_element(By.XPATH,f\"//div[contains(text(),{r})]\")).click()\n",
    "            action.perform()\n",
    "            time.sleep(2)\n",
    "            r+=1\n",
    "        except:         \n",
    "            print(f\"Ther are no pages found{r}\")\n",
    "            break\n",
    "\n",
    "\n",
    "    return wbtc_route,wbtc_link\n",
    "\n",
    "path=\"//a[@class='route']\"\n",
    "wbtc_route,wbtc_link=Wbtc_bus_route_link(path)"
   ]
  },
  {
   "cell_type": "code",
   "execution_count": 20,
   "metadata": {},
   "outputs": [],
   "source": [
    "#----------------------------------Wbtc save file----------------------------\n",
    "import pandas as pd \n",
    "l_and_r=pd.DataFrame({'wbtc_keys':wbtc_link,'wbtc_routes':wbtc_route})\n",
    "local_a=r\"D:\\project\\wbtc_routes.csv\"\n",
    "l_and_r.to_csv(local_a,index=False)"
   ]
  }
 ],
 "metadata": {
  "kernelspec": {
   "display_name": "Python 3",
   "language": "python",
   "name": "python3"
  },
  "language_info": {
   "codemirror_mode": {
    "name": "ipython",
    "version": 3
   },
   "file_extension": ".py",
   "mimetype": "text/x-python",
   "name": "python",
   "nbconvert_exporter": "python",
   "pygments_lexer": "ipython3",
   "version": "3.12.5"
  }
 },
 "nbformat": 4,
 "nbformat_minor": 2
}

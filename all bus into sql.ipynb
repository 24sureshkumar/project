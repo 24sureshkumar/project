{
 "cells": [
  {
   "cell_type": "code",
   "execution_count": 3,
   "metadata": {},
   "outputs": [
    {
     "name": "stdout",
     "output_type": "stream",
     "text": [
      "Requirement already satisfied: mysql-connector-python in c:\\users\\sures\\appdata\\local\\programs\\python\\python312\\lib\\site-packages (9.0.0)\n"
     ]
    },
    {
     "name": "stderr",
     "output_type": "stream",
     "text": [
      "WARNING: Ignoring invalid distribution ~ip (C:\\Users\\sures\\AppData\\Local\\Programs\\Python\\Python312\\Lib\\site-packages)\n",
      "WARNING: Ignoring invalid distribution ~ip (C:\\Users\\sures\\AppData\\Local\\Programs\\Python\\Python312\\Lib\\site-packages)\n",
      "WARNING: Ignoring invalid distribution ~ip (C:\\Users\\sures\\AppData\\Local\\Programs\\Python\\Python312\\Lib\\site-packages)\n",
      "WARNING: Ignoring invalid distribution ~ip (C:\\Users\\sures\\AppData\\Local\\Programs\\Python\\Python312\\Lib\\site-packages)\n"
     ]
    }
   ],
   "source": [
    "!pip install mysql-connector-python"
   ]
  },
  {
   "cell_type": "code",
   "execution_count": 1,
   "metadata": {},
   "outputs": [
    {
     "name": "stdout",
     "output_type": "stream",
     "text": [
      "<mysql.connector.connection_cext.CMySQLConnection object at 0x0000020B42DE7950>\n"
     ]
    }
   ],
   "source": [
    "from typing_extensions import Buffer\n",
    "import pandas as pd\n",
    "import mysql.connector\n",
    "mydb=mysql.connector.connect(\n",
    "    host=\"localhost\",\n",
    "    user=\"root\",\n",
    "    password=''\n",
    ")\n",
    "print(mydb)\n",
    "mycursor=mydb.cursor(buffered=True)"
   ]
  },
  {
   "cell_type": "code",
   "execution_count": 2,
   "metadata": {},
   "outputs": [
    {
     "name": "stdout",
     "output_type": "stream",
     "text": [
      "('information_schema',)\n",
      "('mysql',)\n",
      "('performance_schema',)\n",
      "('phpmyadmin',)\n",
      "('project',)\n",
      "('test',)\n"
     ]
    }
   ],
   "source": [
    "mycursor.execute(\"show databases\")\n",
    "for i in mycursor:\n",
    "    print(i)"
   ]
  },
  {
   "cell_type": "code",
   "execution_count": null,
   "metadata": {},
   "outputs": [],
   "source": [
    "\"Id\",\"Route_name\",\"Route_link\",\"Bus_name\",\"Bus_type\",\"Departing_time\",\"Duration\",\"Reaching_time\",\"Star_rating\",\"price\""
   ]
  },
  {
   "cell_type": "code",
   "execution_count": 10,
   "metadata": {},
   "outputs": [],
   "source": [
    "mycursor.execute(\"create database project\")"
   ]
  },
  {
   "cell_type": "code",
   "execution_count": 16,
   "metadata": {},
   "outputs": [],
   "source": [
    "mycursor.execute('''create table project.Red_bus( \n",
    "                 Id int AUTO_INCREMENT PRIMARY KEY,\n",
    "                 Route_name text(255) NOT NULL,\n",
    "                 Route_link text(255) NOT NULL,\n",
    "                 Bus_name text(225) NOT NULL,\n",
    "                 Bus_type text(255) NOT NULL,\n",
    "                 Departing_time time(6) NOT NULL,\n",
    "                 Duration text(255) NOT NULL,\n",
    "                 Reaching_time time(6) NOT NULL,\n",
    "                 Star_rating Float NULL,\n",
    "                 price Float NULL\n",
    "                                  )''')"
   ]
  },
  {
   "cell_type": "code",
   "execution_count": 18,
   "metadata": {},
   "outputs": [],
   "source": [
    "mycursor.execute(\"alter table project.Red_bus add Seat_availability text(225) after Bus_type\")"
   ]
  },
  {
   "cell_type": "code",
   "execution_count": 40,
   "metadata": {},
   "outputs": [],
   "source": [
    "mycursor.execute(\"alter table project.Red_bus change price price decimal(5,2) NULL after Bus_type\")"
   ]
  },
  {
   "cell_type": "code",
   "execution_count": 39,
   "metadata": {},
   "outputs": [],
   "source": [
    "mycursor.execute(\"alter table project.red_bus change Seat_availability Seat_availability int(5) NOT NULL \")"
   ]
  },
  {
   "cell_type": "code",
   "execution_count": 28,
   "metadata": {},
   "outputs": [
    {
     "data": {
      "text/html": [
       "<div>\n",
       "<style scoped>\n",
       "    .dataframe tbody tr th:only-of-type {\n",
       "        vertical-align: middle;\n",
       "    }\n",
       "\n",
       "    .dataframe tbody tr th {\n",
       "        vertical-align: top;\n",
       "    }\n",
       "\n",
       "    .dataframe thead th {\n",
       "        text-align: right;\n",
       "    }\n",
       "</style>\n",
       "<table border=\"1\" class=\"dataframe\">\n",
       "  <thead>\n",
       "    <tr style=\"text-align: right;\">\n",
       "      <th></th>\n",
       "      <th>bus_name</th>\n",
       "      <th>bus_type</th>\n",
       "      <th>starting_time</th>\n",
       "      <th>time_duration</th>\n",
       "      <th>reaching_time</th>\n",
       "      <th>rating</th>\n",
       "      <th>fair_price</th>\n",
       "      <th>seats</th>\n",
       "      <th>route_link</th>\n",
       "      <th>route_name</th>\n",
       "    </tr>\n",
       "  </thead>\n",
       "  <tbody>\n",
       "    <tr>\n",
       "      <th>0</th>\n",
       "      <td>APSRTC - 3589</td>\n",
       "      <td>Super Luxury (Non AC Seater 2+2 Push Back)</td>\n",
       "      <td>07:15</td>\n",
       "      <td>08h 25m</td>\n",
       "      <td>15:40</td>\n",
       "      <td>0.0</td>\n",
       "      <td>469.0</td>\n",
       "      <td>33 Seats available</td>\n",
       "      <td>https://www.redbus.in/bus-tickets/vijayawada-t...</td>\n",
       "      <td>Vijayawada to Hyderabad</td>\n",
       "    </tr>\n",
       "    <tr>\n",
       "      <th>1</th>\n",
       "      <td>APSRTC - 3581</td>\n",
       "      <td>AMARAVATHI (VOLVO / SCANIA A.C Multi Axle)</td>\n",
       "      <td>07:45</td>\n",
       "      <td>05h 50m</td>\n",
       "      <td>13:35</td>\n",
       "      <td>0.0</td>\n",
       "      <td>720.0</td>\n",
       "      <td>31 Seats available</td>\n",
       "      <td>https://www.redbus.in/bus-tickets/vijayawada-t...</td>\n",
       "      <td>Vijayawada to Hyderabad</td>\n",
       "    </tr>\n",
       "    <tr>\n",
       "      <th>2</th>\n",
       "      <td>APSRTC - 1446</td>\n",
       "      <td>Super Luxury (Non AC Seater 2+2 Push Back)</td>\n",
       "      <td>08:00</td>\n",
       "      <td>06h 40m</td>\n",
       "      <td>14:40</td>\n",
       "      <td>4.0</td>\n",
       "      <td>469.0</td>\n",
       "      <td>32 Seats available</td>\n",
       "      <td>https://www.redbus.in/bus-tickets/vijayawada-t...</td>\n",
       "      <td>Vijayawada to Hyderabad</td>\n",
       "    </tr>\n",
       "    <tr>\n",
       "      <th>3</th>\n",
       "      <td>APSRTC - 3882</td>\n",
       "      <td>Super Luxury (Non AC Seater 2+2 Push Back)</td>\n",
       "      <td>08:30</td>\n",
       "      <td>07h 05m</td>\n",
       "      <td>15:35</td>\n",
       "      <td>0.0</td>\n",
       "      <td>469.0</td>\n",
       "      <td>32 Seats available</td>\n",
       "      <td>https://www.redbus.in/bus-tickets/vijayawada-t...</td>\n",
       "      <td>Vijayawada to Hyderabad</td>\n",
       "    </tr>\n",
       "    <tr>\n",
       "      <th>4</th>\n",
       "      <td>APSRTC - 3593</td>\n",
       "      <td>Super Luxury (Non AC Seater 2+2 Push Back)</td>\n",
       "      <td>08:45</td>\n",
       "      <td>08h 25m</td>\n",
       "      <td>17:10</td>\n",
       "      <td>0.0</td>\n",
       "      <td>469.0</td>\n",
       "      <td>33 Seats available</td>\n",
       "      <td>https://www.redbus.in/bus-tickets/vijayawada-t...</td>\n",
       "      <td>Vijayawada to Hyderabad</td>\n",
       "    </tr>\n",
       "    <tr>\n",
       "      <th>...</th>\n",
       "      <td>...</td>\n",
       "      <td>...</td>\n",
       "      <td>...</td>\n",
       "      <td>...</td>\n",
       "      <td>...</td>\n",
       "      <td>...</td>\n",
       "      <td>...</td>\n",
       "      <td>...</td>\n",
       "      <td>...</td>\n",
       "      <td>...</td>\n",
       "    </tr>\n",
       "    <tr>\n",
       "      <th>8353</th>\n",
       "      <td>Express Line</td>\n",
       "      <td>Volvo 9600 Multi-Axle A/C Sleeper (2+1)</td>\n",
       "      <td>19:45</td>\n",
       "      <td>12h 25m</td>\n",
       "      <td>08:10</td>\n",
       "      <td>0.0</td>\n",
       "      <td>1499.0</td>\n",
       "      <td>9 Seats available</td>\n",
       "      <td>https://www.redbus.in/bus-tickets/kolkata-to-s...</td>\n",
       "      <td>Kolkata to Siliguri</td>\n",
       "    </tr>\n",
       "    <tr>\n",
       "      <th>8354</th>\n",
       "      <td>Maulik Paribahan</td>\n",
       "      <td>A/C Seater / Sleeper (2+2)</td>\n",
       "      <td>19:45</td>\n",
       "      <td>12h 00m</td>\n",
       "      <td>07:45</td>\n",
       "      <td>0.0</td>\n",
       "      <td>1000.0</td>\n",
       "      <td>50 Seats available</td>\n",
       "      <td>https://www.redbus.in/bus-tickets/kolkata-to-s...</td>\n",
       "      <td>Kolkata to Siliguri</td>\n",
       "    </tr>\n",
       "    <tr>\n",
       "      <th>8355</th>\n",
       "      <td>Royal Cruiser</td>\n",
       "      <td>Volvo A/C Seater (2+2)</td>\n",
       "      <td>19:45</td>\n",
       "      <td>04h 30m</td>\n",
       "      <td>00:15</td>\n",
       "      <td>0.0</td>\n",
       "      <td>523.0</td>\n",
       "      <td>2 Seats available</td>\n",
       "      <td>https://www.redbus.in/bus-tickets/kolkata-to-a...</td>\n",
       "      <td>Kolkata to Asansol (West Bengal)</td>\n",
       "    </tr>\n",
       "    <tr>\n",
       "      <th>8356</th>\n",
       "      <td>Beauty Travels</td>\n",
       "      <td>NON A/C Seater / Sleeper (2+2)</td>\n",
       "      <td>20:20</td>\n",
       "      <td>04h 10m</td>\n",
       "      <td>00:30</td>\n",
       "      <td>3.0</td>\n",
       "      <td>380.0</td>\n",
       "      <td>36 Seats available</td>\n",
       "      <td>https://www.redbus.in/bus-tickets/kolkata-to-a...</td>\n",
       "      <td>Kolkata to Asansol (West Bengal)</td>\n",
       "    </tr>\n",
       "    <tr>\n",
       "      <th>8357</th>\n",
       "      <td>Maharani Travels</td>\n",
       "      <td>A/C Seater / Sleeper (2+1)</td>\n",
       "      <td>21:05</td>\n",
       "      <td>04h 55m</td>\n",
       "      <td>02:00</td>\n",
       "      <td>2.6</td>\n",
       "      <td>740.0</td>\n",
       "      <td>23 Seats available</td>\n",
       "      <td>https://www.redbus.in/bus-tickets/kolkata-to-a...</td>\n",
       "      <td>Kolkata to Asansol (West Bengal)</td>\n",
       "    </tr>\n",
       "  </tbody>\n",
       "</table>\n",
       "<p>8358 rows × 10 columns</p>\n",
       "</div>"
      ],
      "text/plain": [
       "              bus_name                                    bus_type  \\\n",
       "0        APSRTC - 3589  Super Luxury (Non AC Seater 2+2 Push Back)   \n",
       "1        APSRTC - 3581  AMARAVATHI (VOLVO / SCANIA A.C Multi Axle)   \n",
       "2        APSRTC - 1446  Super Luxury (Non AC Seater 2+2 Push Back)   \n",
       "3        APSRTC - 3882  Super Luxury (Non AC Seater 2+2 Push Back)   \n",
       "4        APSRTC - 3593  Super Luxury (Non AC Seater 2+2 Push Back)   \n",
       "...                ...                                         ...   \n",
       "8353      Express Line     Volvo 9600 Multi-Axle A/C Sleeper (2+1)   \n",
       "8354  Maulik Paribahan                  A/C Seater / Sleeper (2+2)   \n",
       "8355     Royal Cruiser                      Volvo A/C Seater (2+2)   \n",
       "8356    Beauty Travels              NON A/C Seater / Sleeper (2+2)   \n",
       "8357  Maharani Travels                  A/C Seater / Sleeper (2+1)   \n",
       "\n",
       "     starting_time time_duration reaching_time  rating  fair_price  \\\n",
       "0            07:15       08h 25m         15:40     0.0       469.0   \n",
       "1            07:45       05h 50m         13:35     0.0       720.0   \n",
       "2            08:00       06h 40m         14:40     4.0       469.0   \n",
       "3            08:30       07h 05m         15:35     0.0       469.0   \n",
       "4            08:45       08h 25m         17:10     0.0       469.0   \n",
       "...            ...           ...           ...     ...         ...   \n",
       "8353         19:45       12h 25m         08:10     0.0      1499.0   \n",
       "8354         19:45       12h 00m         07:45     0.0      1000.0   \n",
       "8355         19:45       04h 30m         00:15     0.0       523.0   \n",
       "8356         20:20       04h 10m         00:30     3.0       380.0   \n",
       "8357         21:05       04h 55m         02:00     2.6       740.0   \n",
       "\n",
       "                   seats                                         route_link  \\\n",
       "0     33 Seats available  https://www.redbus.in/bus-tickets/vijayawada-t...   \n",
       "1     31 Seats available  https://www.redbus.in/bus-tickets/vijayawada-t...   \n",
       "2     32 Seats available  https://www.redbus.in/bus-tickets/vijayawada-t...   \n",
       "3     32 Seats available  https://www.redbus.in/bus-tickets/vijayawada-t...   \n",
       "4     33 Seats available  https://www.redbus.in/bus-tickets/vijayawada-t...   \n",
       "...                  ...                                                ...   \n",
       "8353   9 Seats available  https://www.redbus.in/bus-tickets/kolkata-to-s...   \n",
       "8354  50 Seats available  https://www.redbus.in/bus-tickets/kolkata-to-s...   \n",
       "8355   2 Seats available  https://www.redbus.in/bus-tickets/kolkata-to-a...   \n",
       "8356  36 Seats available  https://www.redbus.in/bus-tickets/kolkata-to-a...   \n",
       "8357  23 Seats available  https://www.redbus.in/bus-tickets/kolkata-to-a...   \n",
       "\n",
       "                            route_name  \n",
       "0              Vijayawada to Hyderabad  \n",
       "1              Vijayawada to Hyderabad  \n",
       "2              Vijayawada to Hyderabad  \n",
       "3              Vijayawada to Hyderabad  \n",
       "4              Vijayawada to Hyderabad  \n",
       "...                                ...  \n",
       "8353               Kolkata to Siliguri  \n",
       "8354               Kolkata to Siliguri  \n",
       "8355  Kolkata to Asansol (West Bengal)  \n",
       "8356  Kolkata to Asansol (West Bengal)  \n",
       "8357  Kolkata to Asansol (West Bengal)  \n",
       "\n",
       "[8358 rows x 10 columns]"
      ]
     },
     "execution_count": 28,
     "metadata": {},
     "output_type": "execute_result"
    }
   ],
   "source": [
    "data=pd.read_csv(r\"D:\\total project\\bus_data.csv\")\n",
    "new=data.drop([\"Unnamed: 0\"],axis=1)\n",
    "new"
   ]
  },
  {
   "cell_type": "code",
   "execution_count": 25,
   "metadata": {},
   "outputs": [],
   "source": [
    "mycursor.execute(\"use project\")"
   ]
  },
  {
   "cell_type": "code",
   "execution_count": 29,
   "metadata": {},
   "outputs": [],
   "source": [
    "from multiprocessing import connection\n",
    "\n",
    "\n",
    "insert_data=('''insert into red_bus(\n",
    "                             bus_name,\n",
    "                             bus_type,\n",
    "                             Departing_time,\n",
    "                             Duration,\n",
    "                             Reaching_time,\n",
    "                             Star_rating,\n",
    "                             price,\n",
    "                             seat_availability,\n",
    "                             route_link,\n",
    "                             route_name                             \n",
    "                             )values(%s,%s,%s,%s,%s,%s,%s,%s,%s,%s)''')\n",
    "data1=new.values.tolist()\n",
    "mycursor.executemany(insert_data,data1)\n",
    "mydb.commit()"
   ]
  },
  {
   "cell_type": "code",
   "execution_count": 21,
   "metadata": {},
   "outputs": [],
   "source": [
    "mycursor.execute(\"truncate red_bus\")"
   ]
  },
  {
   "cell_type": "code",
   "execution_count": null,
   "metadata": {},
   "outputs": [],
   "source": []
  }
 ],
 "metadata": {
  "kernelspec": {
   "display_name": "Python 3",
   "language": "python",
   "name": "python3"
  },
  "language_info": {
   "codemirror_mode": {
    "name": "ipython",
    "version": 3
   },
   "file_extension": ".py",
   "mimetype": "text/x-python",
   "name": "python",
   "nbconvert_exporter": "python",
   "pygments_lexer": "ipython3",
   "version": "3.12.5"
  }
 },
 "nbformat": 4,
 "nbformat_minor": 2
}

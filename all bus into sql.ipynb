{
 "cells": [
  {
   "cell_type": "code",
   "execution_count": null,
   "metadata": {},
   "outputs": [],
   "source": [
    "!pip install mysql-connector-python"
   ]
  },
  {
   "cell_type": "code",
   "execution_count": null,
   "metadata": {},
   "outputs": [],
   "source": [
    
    "import pandas as pd\n",
    "import mysql.connector\n",
    "mydb=mysql.connector.connect(\n",
    "    host=\"localhost\",\n",
    "    user=\"root\",\n",
    "    password=''\n",
    ")\n",
    "print(mydb)\n",
    "mycursor=mydb.cursor(buffered=True)"
   ]
  },
  {
   "cell_type": "code",
   "execution_count": null,
   "metadata": {},
   "outputs": [],
   "source": [
    "mycursor.execute(\"show databases\")\n",
    "for i in mycursor:\n",
    "    print(i)"
   ]
  },
  {
   "cell_type": "code",
   "execution_count": 10,
   "metadata": {},
   "outputs": [],
   "source": [
    "mycursor.execute(\"create database project\")"
   ]
  },
  {
   "cell_type": "code",
   "execution_count": 16,
   "metadata": {},
   "outputs": [],
   "source": [
    "mycursor.execute('''create table project.Red_bus( \n",
    "                 Id int AUTO_INCREMENT PRIMARY KEY,\n",
    "                 Route_name text(255) NOT NULL,\n",
    "                 Route_link text(255) NOT NULL,\n",
    "                 Bus_name text(225) NOT NULL,\n",
    "                 Bus_type text(255) NOT NULL,\n",
    "                 Seat_availability int(5),\n",
    "                 Departing_time time(6) NOT NULL,\n",
    "                 Duration text(255) NOT NULL,\n",
    "                 Reaching_time time(6) NOT NULL,\n",
    "                 Star_rating Float NULL,\n",
    "                 price decimal(5,2)\n",
    "                                  )''')"
   ]
  },
  {
   "cell_type": "code",
   "execution_count": null,
   "metadata": {},
   "outputs": [],
   "source": [
    "import pandas as pd\n",
    "data=pd.read_csv(r\"D:\\total project\\bus_data.csv\")\n",
    "new=data.drop([\"Unnamed: 0\"],axis=1)\n",
    "new"
   ]
  },
  {
   "cell_type": "code",
   "execution_count": 7,
   "metadata": {},
   "outputs": [],
   "source": [
    "mycursor.execute(\"use project\")"
   ]
  },
  {
   "cell_type": "code",
   "execution_count": 9,
   "metadata": {},
   "outputs": [],
   "source": [
    "\n",
    "\n",
    "\n",
    "insert_data=('''insert into red_bus(\n",
    "                             bus_name,\n",
    "                             bus_type,\n",
    "                             Departing_time,\n",
    "                             Duration,\n",
    "                             Reaching_time,\n",
    "                             Star_rating,\n",
    "                             price,\n",
    "                             seat_availability,\n",
    "                             Route_link,\n",
    "                             route_name                             \n",
    "                             )values(%s,%s,%s,%s,%s,%s,%s,%s,%s,%s)''')\n",
    "data1=new.values.tolist()\n",
    "mycursor.executemany(insert_data,data1)\n",
    "mydb.commit()"
   ]
  },
  {
   "cell_type": "code",
   "execution_count": 8,
   "metadata": {},
   "outputs": [],
   "source": [
    "mycursor.execute(\"truncate red_bus\")"
   ]
  },
  {
   "cell_type": "code",
   "execution_count": null,
   "metadata": {},
   "outputs": [],
   "source": []
  }
 ],
 "metadata": {
  "kernelspec": {
   "display_name": "Python 3",
   "language": "python",
   "name": "python3"
  },
  "language_info": {
   "codemirror_mode": {
    "name": "ipython",
    "version": 3
   },
   "file_extension": ".py",
   "mimetype": "text/x-python",
   "name": "python",
   "nbconvert_exporter": "python",
   "pygments_lexer": "ipython3",
   "version": "3.12.5"
  }
 },
 "nbformat": 4,
 "nbformat_minor": 2
}
